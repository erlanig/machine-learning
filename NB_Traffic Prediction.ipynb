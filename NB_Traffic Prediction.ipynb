{
  "cells": [
    {
      "cell_type": "markdown",
      "metadata": {
        "id": "view-in-github",
        "colab_type": "text"
      },
      "source": [
        "<a href=\"https://colab.research.google.com/github/erlanig/machine-learning/blob/main/NB_Traffic%20Prediction.ipynb\" target=\"_parent\"><img src=\"https://colab.research.google.com/assets/colab-badge.svg\" alt=\"Open In Colab\"/></a>"
      ]
    },
    {
      "cell_type": "markdown",
      "metadata": {
        "id": "MFtzIjYWCbhH"
      },
      "source": [
        "Import Library"
      ]
    },
    {
      "cell_type": "code",
      "execution_count": null,
      "metadata": {
        "id": "LP3cZUgvCCM9"
      },
      "outputs": [],
      "source": [
        "import pandas as pd\n",
        "import numpy as np\n",
        "import matplotlib.pyplot as plt\n",
        "from sklearn import model_selection\n",
        "from sklearn import metrics\n",
        "from sklearn.svm import SVC\n",
        "from sklearn.neighbors import KNeighborsClassifier\n",
        "from sklearn.metrics import accuracy_score\n",
        "from sklearn.metrics import confusion_matrix\n",
        "from sklearn.metrics import classification_report\n",
        "from sklearn.naive_bayes import GaussianNB"
      ]
    },
    {
      "cell_type": "markdown",
      "metadata": {
        "id": "gZgMAA0ABhbU"
      },
      "source": [
        "#Import Data"
      ]
    },
    {
      "cell_type": "code",
      "source": [
        "# from google.colab import drive\n",
        "# drive.mount('/content/drive')"
      ],
      "metadata": {
        "id": "Oy-M4a9Q2EEY"
      },
      "execution_count": null,
      "outputs": []
    },
    {
      "cell_type": "code",
      "execution_count": null,
      "metadata": {
        "colab": {
          "base_uri": "https://localhost:8080/",
          "height": 990
        },
        "id": "OGGCombrBXba",
        "outputId": "d70c6cb7-1677-4c2a-bb56-ae885173a838"
      },
      "outputs": [
        {
          "output_type": "execute_result",
          "data": {
            "text/plain": [
              "           Time  Date Day of the week  CarCount  BikeCount  BusCount  \\\n",
              "0   12:00:00 AM    10         Tuesday        31          0         4   \n",
              "1   12:15:00 AM    10         Tuesday        49          0         3   \n",
              "2   12:30:00 AM    10         Tuesday        46          0         3   \n",
              "3   12:45:00 AM    10         Tuesday        51          0         2   \n",
              "4    1:00:00 AM    10         Tuesday        57          6        15   \n",
              "5    1:15:00 AM    10         Tuesday        44          0         5   \n",
              "6    1:30:00 AM    10         Tuesday        37          0         1   \n",
              "7    1:45:00 AM    10         Tuesday        42          4         4   \n",
              "8    2:00:00 AM    10         Tuesday        51          0         9   \n",
              "9    2:15:00 AM    10         Tuesday        34          0         4   \n",
              "10   2:30:00 AM    10         Tuesday        45          0         1   \n",
              "11   2:45:00 AM    10         Tuesday        45          0         1   \n",
              "12   3:00:00 AM    10         Tuesday        50          0         3   \n",
              "13   3:15:00 AM    10         Tuesday        34          0         4   \n",
              "14   3:30:00 AM    10         Tuesday       129         22        42   \n",
              "15   3:45:00 AM    10         Tuesday       144         16        49   \n",
              "16   4:00:00 AM    10         Tuesday       111         28        20   \n",
              "17   4:15:00 AM    10         Tuesday        67         11        10   \n",
              "18   4:30:00 AM    10         Tuesday        65         24         7   \n",
              "19   4:45:00 AM    10         Tuesday        94         27         7   \n",
              "20   5:00:00 AM    10         Tuesday        94         20         8   \n",
              "21   5:15:00 AM    10         Tuesday        67         29         5   \n",
              "22   5:30:00 AM    10         Tuesday        56         12         2   \n",
              "23   5:45:00 AM    10         Tuesday        57         13         3   \n",
              "24   6:00:00 AM    10         Tuesday       129         22        42   \n",
              "25   6:15:00 AM    10         Tuesday       144         16        49   \n",
              "26   6:30:00 AM    10         Tuesday       111         28        20   \n",
              "27   6:45:00 AM    10         Tuesday       120         27        46   \n",
              "28   7:00:00 AM    10         Tuesday       102         39        47   \n",
              "29   7:15:00 AM    10         Tuesday       145         23        27   \n",
              "\n",
              "    TruckCount  Total Traffic Situation  \n",
              "0            4     39               low  \n",
              "1            3     55               low  \n",
              "2            6     55               low  \n",
              "3            5     58               low  \n",
              "4           16     94            normal  \n",
              "5            4     53               low  \n",
              "6            4     42               low  \n",
              "7            5     55               low  \n",
              "8            7     67               low  \n",
              "9            7     45               low  \n",
              "10           1     47               low  \n",
              "11           3     49               low  \n",
              "12           0     53               low  \n",
              "13           4     42               low  \n",
              "14           1    194             heavy  \n",
              "15           0    209             heavy  \n",
              "16           3    162            normal  \n",
              "17          16    104            normal  \n",
              "18          16    112            normal  \n",
              "19          16    144            normal  \n",
              "20           7    129            normal  \n",
              "21          10    111               low  \n",
              "22          14     84            normal  \n",
              "23          11     84               low  \n",
              "24           1    194             heavy  \n",
              "25           0    209             heavy  \n",
              "26           3    162            normal  \n",
              "27           3    196             heavy  \n",
              "28           1    189             heavy  \n",
              "29           0    195             heavy  "
            ],
            "text/html": [
              "\n",
              "  <div id=\"df-2e452182-69df-4d81-8eb2-b6c339e8fca0\" class=\"colab-df-container\">\n",
              "    <div>\n",
              "<style scoped>\n",
              "    .dataframe tbody tr th:only-of-type {\n",
              "        vertical-align: middle;\n",
              "    }\n",
              "\n",
              "    .dataframe tbody tr th {\n",
              "        vertical-align: top;\n",
              "    }\n",
              "\n",
              "    .dataframe thead th {\n",
              "        text-align: right;\n",
              "    }\n",
              "</style>\n",
              "<table border=\"1\" class=\"dataframe\">\n",
              "  <thead>\n",
              "    <tr style=\"text-align: right;\">\n",
              "      <th></th>\n",
              "      <th>Time</th>\n",
              "      <th>Date</th>\n",
              "      <th>Day of the week</th>\n",
              "      <th>CarCount</th>\n",
              "      <th>BikeCount</th>\n",
              "      <th>BusCount</th>\n",
              "      <th>TruckCount</th>\n",
              "      <th>Total</th>\n",
              "      <th>Traffic Situation</th>\n",
              "    </tr>\n",
              "  </thead>\n",
              "  <tbody>\n",
              "    <tr>\n",
              "      <th>0</th>\n",
              "      <td>12:00:00 AM</td>\n",
              "      <td>10</td>\n",
              "      <td>Tuesday</td>\n",
              "      <td>31</td>\n",
              "      <td>0</td>\n",
              "      <td>4</td>\n",
              "      <td>4</td>\n",
              "      <td>39</td>\n",
              "      <td>low</td>\n",
              "    </tr>\n",
              "    <tr>\n",
              "      <th>1</th>\n",
              "      <td>12:15:00 AM</td>\n",
              "      <td>10</td>\n",
              "      <td>Tuesday</td>\n",
              "      <td>49</td>\n",
              "      <td>0</td>\n",
              "      <td>3</td>\n",
              "      <td>3</td>\n",
              "      <td>55</td>\n",
              "      <td>low</td>\n",
              "    </tr>\n",
              "    <tr>\n",
              "      <th>2</th>\n",
              "      <td>12:30:00 AM</td>\n",
              "      <td>10</td>\n",
              "      <td>Tuesday</td>\n",
              "      <td>46</td>\n",
              "      <td>0</td>\n",
              "      <td>3</td>\n",
              "      <td>6</td>\n",
              "      <td>55</td>\n",
              "      <td>low</td>\n",
              "    </tr>\n",
              "    <tr>\n",
              "      <th>3</th>\n",
              "      <td>12:45:00 AM</td>\n",
              "      <td>10</td>\n",
              "      <td>Tuesday</td>\n",
              "      <td>51</td>\n",
              "      <td>0</td>\n",
              "      <td>2</td>\n",
              "      <td>5</td>\n",
              "      <td>58</td>\n",
              "      <td>low</td>\n",
              "    </tr>\n",
              "    <tr>\n",
              "      <th>4</th>\n",
              "      <td>1:00:00 AM</td>\n",
              "      <td>10</td>\n",
              "      <td>Tuesday</td>\n",
              "      <td>57</td>\n",
              "      <td>6</td>\n",
              "      <td>15</td>\n",
              "      <td>16</td>\n",
              "      <td>94</td>\n",
              "      <td>normal</td>\n",
              "    </tr>\n",
              "    <tr>\n",
              "      <th>5</th>\n",
              "      <td>1:15:00 AM</td>\n",
              "      <td>10</td>\n",
              "      <td>Tuesday</td>\n",
              "      <td>44</td>\n",
              "      <td>0</td>\n",
              "      <td>5</td>\n",
              "      <td>4</td>\n",
              "      <td>53</td>\n",
              "      <td>low</td>\n",
              "    </tr>\n",
              "    <tr>\n",
              "      <th>6</th>\n",
              "      <td>1:30:00 AM</td>\n",
              "      <td>10</td>\n",
              "      <td>Tuesday</td>\n",
              "      <td>37</td>\n",
              "      <td>0</td>\n",
              "      <td>1</td>\n",
              "      <td>4</td>\n",
              "      <td>42</td>\n",
              "      <td>low</td>\n",
              "    </tr>\n",
              "    <tr>\n",
              "      <th>7</th>\n",
              "      <td>1:45:00 AM</td>\n",
              "      <td>10</td>\n",
              "      <td>Tuesday</td>\n",
              "      <td>42</td>\n",
              "      <td>4</td>\n",
              "      <td>4</td>\n",
              "      <td>5</td>\n",
              "      <td>55</td>\n",
              "      <td>low</td>\n",
              "    </tr>\n",
              "    <tr>\n",
              "      <th>8</th>\n",
              "      <td>2:00:00 AM</td>\n",
              "      <td>10</td>\n",
              "      <td>Tuesday</td>\n",
              "      <td>51</td>\n",
              "      <td>0</td>\n",
              "      <td>9</td>\n",
              "      <td>7</td>\n",
              "      <td>67</td>\n",
              "      <td>low</td>\n",
              "    </tr>\n",
              "    <tr>\n",
              "      <th>9</th>\n",
              "      <td>2:15:00 AM</td>\n",
              "      <td>10</td>\n",
              "      <td>Tuesday</td>\n",
              "      <td>34</td>\n",
              "      <td>0</td>\n",
              "      <td>4</td>\n",
              "      <td>7</td>\n",
              "      <td>45</td>\n",
              "      <td>low</td>\n",
              "    </tr>\n",
              "    <tr>\n",
              "      <th>10</th>\n",
              "      <td>2:30:00 AM</td>\n",
              "      <td>10</td>\n",
              "      <td>Tuesday</td>\n",
              "      <td>45</td>\n",
              "      <td>0</td>\n",
              "      <td>1</td>\n",
              "      <td>1</td>\n",
              "      <td>47</td>\n",
              "      <td>low</td>\n",
              "    </tr>\n",
              "    <tr>\n",
              "      <th>11</th>\n",
              "      <td>2:45:00 AM</td>\n",
              "      <td>10</td>\n",
              "      <td>Tuesday</td>\n",
              "      <td>45</td>\n",
              "      <td>0</td>\n",
              "      <td>1</td>\n",
              "      <td>3</td>\n",
              "      <td>49</td>\n",
              "      <td>low</td>\n",
              "    </tr>\n",
              "    <tr>\n",
              "      <th>12</th>\n",
              "      <td>3:00:00 AM</td>\n",
              "      <td>10</td>\n",
              "      <td>Tuesday</td>\n",
              "      <td>50</td>\n",
              "      <td>0</td>\n",
              "      <td>3</td>\n",
              "      <td>0</td>\n",
              "      <td>53</td>\n",
              "      <td>low</td>\n",
              "    </tr>\n",
              "    <tr>\n",
              "      <th>13</th>\n",
              "      <td>3:15:00 AM</td>\n",
              "      <td>10</td>\n",
              "      <td>Tuesday</td>\n",
              "      <td>34</td>\n",
              "      <td>0</td>\n",
              "      <td>4</td>\n",
              "      <td>4</td>\n",
              "      <td>42</td>\n",
              "      <td>low</td>\n",
              "    </tr>\n",
              "    <tr>\n",
              "      <th>14</th>\n",
              "      <td>3:30:00 AM</td>\n",
              "      <td>10</td>\n",
              "      <td>Tuesday</td>\n",
              "      <td>129</td>\n",
              "      <td>22</td>\n",
              "      <td>42</td>\n",
              "      <td>1</td>\n",
              "      <td>194</td>\n",
              "      <td>heavy</td>\n",
              "    </tr>\n",
              "    <tr>\n",
              "      <th>15</th>\n",
              "      <td>3:45:00 AM</td>\n",
              "      <td>10</td>\n",
              "      <td>Tuesday</td>\n",
              "      <td>144</td>\n",
              "      <td>16</td>\n",
              "      <td>49</td>\n",
              "      <td>0</td>\n",
              "      <td>209</td>\n",
              "      <td>heavy</td>\n",
              "    </tr>\n",
              "    <tr>\n",
              "      <th>16</th>\n",
              "      <td>4:00:00 AM</td>\n",
              "      <td>10</td>\n",
              "      <td>Tuesday</td>\n",
              "      <td>111</td>\n",
              "      <td>28</td>\n",
              "      <td>20</td>\n",
              "      <td>3</td>\n",
              "      <td>162</td>\n",
              "      <td>normal</td>\n",
              "    </tr>\n",
              "    <tr>\n",
              "      <th>17</th>\n",
              "      <td>4:15:00 AM</td>\n",
              "      <td>10</td>\n",
              "      <td>Tuesday</td>\n",
              "      <td>67</td>\n",
              "      <td>11</td>\n",
              "      <td>10</td>\n",
              "      <td>16</td>\n",
              "      <td>104</td>\n",
              "      <td>normal</td>\n",
              "    </tr>\n",
              "    <tr>\n",
              "      <th>18</th>\n",
              "      <td>4:30:00 AM</td>\n",
              "      <td>10</td>\n",
              "      <td>Tuesday</td>\n",
              "      <td>65</td>\n",
              "      <td>24</td>\n",
              "      <td>7</td>\n",
              "      <td>16</td>\n",
              "      <td>112</td>\n",
              "      <td>normal</td>\n",
              "    </tr>\n",
              "    <tr>\n",
              "      <th>19</th>\n",
              "      <td>4:45:00 AM</td>\n",
              "      <td>10</td>\n",
              "      <td>Tuesday</td>\n",
              "      <td>94</td>\n",
              "      <td>27</td>\n",
              "      <td>7</td>\n",
              "      <td>16</td>\n",
              "      <td>144</td>\n",
              "      <td>normal</td>\n",
              "    </tr>\n",
              "    <tr>\n",
              "      <th>20</th>\n",
              "      <td>5:00:00 AM</td>\n",
              "      <td>10</td>\n",
              "      <td>Tuesday</td>\n",
              "      <td>94</td>\n",
              "      <td>20</td>\n",
              "      <td>8</td>\n",
              "      <td>7</td>\n",
              "      <td>129</td>\n",
              "      <td>normal</td>\n",
              "    </tr>\n",
              "    <tr>\n",
              "      <th>21</th>\n",
              "      <td>5:15:00 AM</td>\n",
              "      <td>10</td>\n",
              "      <td>Tuesday</td>\n",
              "      <td>67</td>\n",
              "      <td>29</td>\n",
              "      <td>5</td>\n",
              "      <td>10</td>\n",
              "      <td>111</td>\n",
              "      <td>low</td>\n",
              "    </tr>\n",
              "    <tr>\n",
              "      <th>22</th>\n",
              "      <td>5:30:00 AM</td>\n",
              "      <td>10</td>\n",
              "      <td>Tuesday</td>\n",
              "      <td>56</td>\n",
              "      <td>12</td>\n",
              "      <td>2</td>\n",
              "      <td>14</td>\n",
              "      <td>84</td>\n",
              "      <td>normal</td>\n",
              "    </tr>\n",
              "    <tr>\n",
              "      <th>23</th>\n",
              "      <td>5:45:00 AM</td>\n",
              "      <td>10</td>\n",
              "      <td>Tuesday</td>\n",
              "      <td>57</td>\n",
              "      <td>13</td>\n",
              "      <td>3</td>\n",
              "      <td>11</td>\n",
              "      <td>84</td>\n",
              "      <td>low</td>\n",
              "    </tr>\n",
              "    <tr>\n",
              "      <th>24</th>\n",
              "      <td>6:00:00 AM</td>\n",
              "      <td>10</td>\n",
              "      <td>Tuesday</td>\n",
              "      <td>129</td>\n",
              "      <td>22</td>\n",
              "      <td>42</td>\n",
              "      <td>1</td>\n",
              "      <td>194</td>\n",
              "      <td>heavy</td>\n",
              "    </tr>\n",
              "    <tr>\n",
              "      <th>25</th>\n",
              "      <td>6:15:00 AM</td>\n",
              "      <td>10</td>\n",
              "      <td>Tuesday</td>\n",
              "      <td>144</td>\n",
              "      <td>16</td>\n",
              "      <td>49</td>\n",
              "      <td>0</td>\n",
              "      <td>209</td>\n",
              "      <td>heavy</td>\n",
              "    </tr>\n",
              "    <tr>\n",
              "      <th>26</th>\n",
              "      <td>6:30:00 AM</td>\n",
              "      <td>10</td>\n",
              "      <td>Tuesday</td>\n",
              "      <td>111</td>\n",
              "      <td>28</td>\n",
              "      <td>20</td>\n",
              "      <td>3</td>\n",
              "      <td>162</td>\n",
              "      <td>normal</td>\n",
              "    </tr>\n",
              "    <tr>\n",
              "      <th>27</th>\n",
              "      <td>6:45:00 AM</td>\n",
              "      <td>10</td>\n",
              "      <td>Tuesday</td>\n",
              "      <td>120</td>\n",
              "      <td>27</td>\n",
              "      <td>46</td>\n",
              "      <td>3</td>\n",
              "      <td>196</td>\n",
              "      <td>heavy</td>\n",
              "    </tr>\n",
              "    <tr>\n",
              "      <th>28</th>\n",
              "      <td>7:00:00 AM</td>\n",
              "      <td>10</td>\n",
              "      <td>Tuesday</td>\n",
              "      <td>102</td>\n",
              "      <td>39</td>\n",
              "      <td>47</td>\n",
              "      <td>1</td>\n",
              "      <td>189</td>\n",
              "      <td>heavy</td>\n",
              "    </tr>\n",
              "    <tr>\n",
              "      <th>29</th>\n",
              "      <td>7:15:00 AM</td>\n",
              "      <td>10</td>\n",
              "      <td>Tuesday</td>\n",
              "      <td>145</td>\n",
              "      <td>23</td>\n",
              "      <td>27</td>\n",
              "      <td>0</td>\n",
              "      <td>195</td>\n",
              "      <td>heavy</td>\n",
              "    </tr>\n",
              "  </tbody>\n",
              "</table>\n",
              "</div>\n",
              "    <div class=\"colab-df-buttons\">\n",
              "\n",
              "  <div class=\"colab-df-container\">\n",
              "    <button class=\"colab-df-convert\" onclick=\"convertToInteractive('df-2e452182-69df-4d81-8eb2-b6c339e8fca0')\"\n",
              "            title=\"Convert this dataframe to an interactive table.\"\n",
              "            style=\"display:none;\">\n",
              "\n",
              "  <svg xmlns=\"http://www.w3.org/2000/svg\" height=\"24px\" viewBox=\"0 -960 960 960\">\n",
              "    <path d=\"M120-120v-720h720v720H120Zm60-500h600v-160H180v160Zm220 220h160v-160H400v160Zm0 220h160v-160H400v160ZM180-400h160v-160H180v160Zm440 0h160v-160H620v160ZM180-180h160v-160H180v160Zm440 0h160v-160H620v160Z\"/>\n",
              "  </svg>\n",
              "    </button>\n",
              "\n",
              "  <style>\n",
              "    .colab-df-container {\n",
              "      display:flex;\n",
              "      gap: 12px;\n",
              "    }\n",
              "\n",
              "    .colab-df-convert {\n",
              "      background-color: #E8F0FE;\n",
              "      border: none;\n",
              "      border-radius: 50%;\n",
              "      cursor: pointer;\n",
              "      display: none;\n",
              "      fill: #1967D2;\n",
              "      height: 32px;\n",
              "      padding: 0 0 0 0;\n",
              "      width: 32px;\n",
              "    }\n",
              "\n",
              "    .colab-df-convert:hover {\n",
              "      background-color: #E2EBFA;\n",
              "      box-shadow: 0px 1px 2px rgba(60, 64, 67, 0.3), 0px 1px 3px 1px rgba(60, 64, 67, 0.15);\n",
              "      fill: #174EA6;\n",
              "    }\n",
              "\n",
              "    .colab-df-buttons div {\n",
              "      margin-bottom: 4px;\n",
              "    }\n",
              "\n",
              "    [theme=dark] .colab-df-convert {\n",
              "      background-color: #3B4455;\n",
              "      fill: #D2E3FC;\n",
              "    }\n",
              "\n",
              "    [theme=dark] .colab-df-convert:hover {\n",
              "      background-color: #434B5C;\n",
              "      box-shadow: 0px 1px 3px 1px rgba(0, 0, 0, 0.15);\n",
              "      filter: drop-shadow(0px 1px 2px rgba(0, 0, 0, 0.3));\n",
              "      fill: #FFFFFF;\n",
              "    }\n",
              "  </style>\n",
              "\n",
              "    <script>\n",
              "      const buttonEl =\n",
              "        document.querySelector('#df-2e452182-69df-4d81-8eb2-b6c339e8fca0 button.colab-df-convert');\n",
              "      buttonEl.style.display =\n",
              "        google.colab.kernel.accessAllowed ? 'block' : 'none';\n",
              "\n",
              "      async function convertToInteractive(key) {\n",
              "        const element = document.querySelector('#df-2e452182-69df-4d81-8eb2-b6c339e8fca0');\n",
              "        const dataTable =\n",
              "          await google.colab.kernel.invokeFunction('convertToInteractive',\n",
              "                                                    [key], {});\n",
              "        if (!dataTable) return;\n",
              "\n",
              "        const docLinkHtml = 'Like what you see? Visit the ' +\n",
              "          '<a target=\"_blank\" href=https://colab.research.google.com/notebooks/data_table.ipynb>data table notebook</a>'\n",
              "          + ' to learn more about interactive tables.';\n",
              "        element.innerHTML = '';\n",
              "        dataTable['output_type'] = 'display_data';\n",
              "        await google.colab.output.renderOutput(dataTable, element);\n",
              "        const docLink = document.createElement('div');\n",
              "        docLink.innerHTML = docLinkHtml;\n",
              "        element.appendChild(docLink);\n",
              "      }\n",
              "    </script>\n",
              "  </div>\n",
              "\n",
              "\n",
              "<div id=\"df-8894f9e8-ca00-40af-a8de-7a423925c492\">\n",
              "  <button class=\"colab-df-quickchart\" onclick=\"quickchart('df-8894f9e8-ca00-40af-a8de-7a423925c492')\"\n",
              "            title=\"Suggest charts\"\n",
              "            style=\"display:none;\">\n",
              "\n",
              "<svg xmlns=\"http://www.w3.org/2000/svg\" height=\"24px\"viewBox=\"0 0 24 24\"\n",
              "     width=\"24px\">\n",
              "    <g>\n",
              "        <path d=\"M19 3H5c-1.1 0-2 .9-2 2v14c0 1.1.9 2 2 2h14c1.1 0 2-.9 2-2V5c0-1.1-.9-2-2-2zM9 17H7v-7h2v7zm4 0h-2V7h2v10zm4 0h-2v-4h2v4z\"/>\n",
              "    </g>\n",
              "</svg>\n",
              "  </button>\n",
              "\n",
              "<style>\n",
              "  .colab-df-quickchart {\n",
              "      --bg-color: #E8F0FE;\n",
              "      --fill-color: #1967D2;\n",
              "      --hover-bg-color: #E2EBFA;\n",
              "      --hover-fill-color: #174EA6;\n",
              "      --disabled-fill-color: #AAA;\n",
              "      --disabled-bg-color: #DDD;\n",
              "  }\n",
              "\n",
              "  [theme=dark] .colab-df-quickchart {\n",
              "      --bg-color: #3B4455;\n",
              "      --fill-color: #D2E3FC;\n",
              "      --hover-bg-color: #434B5C;\n",
              "      --hover-fill-color: #FFFFFF;\n",
              "      --disabled-bg-color: #3B4455;\n",
              "      --disabled-fill-color: #666;\n",
              "  }\n",
              "\n",
              "  .colab-df-quickchart {\n",
              "    background-color: var(--bg-color);\n",
              "    border: none;\n",
              "    border-radius: 50%;\n",
              "    cursor: pointer;\n",
              "    display: none;\n",
              "    fill: var(--fill-color);\n",
              "    height: 32px;\n",
              "    padding: 0;\n",
              "    width: 32px;\n",
              "  }\n",
              "\n",
              "  .colab-df-quickchart:hover {\n",
              "    background-color: var(--hover-bg-color);\n",
              "    box-shadow: 0 1px 2px rgba(60, 64, 67, 0.3), 0 1px 3px 1px rgba(60, 64, 67, 0.15);\n",
              "    fill: var(--button-hover-fill-color);\n",
              "  }\n",
              "\n",
              "  .colab-df-quickchart-complete:disabled,\n",
              "  .colab-df-quickchart-complete:disabled:hover {\n",
              "    background-color: var(--disabled-bg-color);\n",
              "    fill: var(--disabled-fill-color);\n",
              "    box-shadow: none;\n",
              "  }\n",
              "\n",
              "  .colab-df-spinner {\n",
              "    border: 2px solid var(--fill-color);\n",
              "    border-color: transparent;\n",
              "    border-bottom-color: var(--fill-color);\n",
              "    animation:\n",
              "      spin 1s steps(1) infinite;\n",
              "  }\n",
              "\n",
              "  @keyframes spin {\n",
              "    0% {\n",
              "      border-color: transparent;\n",
              "      border-bottom-color: var(--fill-color);\n",
              "      border-left-color: var(--fill-color);\n",
              "    }\n",
              "    20% {\n",
              "      border-color: transparent;\n",
              "      border-left-color: var(--fill-color);\n",
              "      border-top-color: var(--fill-color);\n",
              "    }\n",
              "    30% {\n",
              "      border-color: transparent;\n",
              "      border-left-color: var(--fill-color);\n",
              "      border-top-color: var(--fill-color);\n",
              "      border-right-color: var(--fill-color);\n",
              "    }\n",
              "    40% {\n",
              "      border-color: transparent;\n",
              "      border-right-color: var(--fill-color);\n",
              "      border-top-color: var(--fill-color);\n",
              "    }\n",
              "    60% {\n",
              "      border-color: transparent;\n",
              "      border-right-color: var(--fill-color);\n",
              "    }\n",
              "    80% {\n",
              "      border-color: transparent;\n",
              "      border-right-color: var(--fill-color);\n",
              "      border-bottom-color: var(--fill-color);\n",
              "    }\n",
              "    90% {\n",
              "      border-color: transparent;\n",
              "      border-bottom-color: var(--fill-color);\n",
              "    }\n",
              "  }\n",
              "</style>\n",
              "\n",
              "  <script>\n",
              "    async function quickchart(key) {\n",
              "      const quickchartButtonEl =\n",
              "        document.querySelector('#' + key + ' button');\n",
              "      quickchartButtonEl.disabled = true;  // To prevent multiple clicks.\n",
              "      quickchartButtonEl.classList.add('colab-df-spinner');\n",
              "      try {\n",
              "        const charts = await google.colab.kernel.invokeFunction(\n",
              "            'suggestCharts', [key], {});\n",
              "      } catch (error) {\n",
              "        console.error('Error during call to suggestCharts:', error);\n",
              "      }\n",
              "      quickchartButtonEl.classList.remove('colab-df-spinner');\n",
              "      quickchartButtonEl.classList.add('colab-df-quickchart-complete');\n",
              "    }\n",
              "    (() => {\n",
              "      let quickchartButtonEl =\n",
              "        document.querySelector('#df-8894f9e8-ca00-40af-a8de-7a423925c492 button');\n",
              "      quickchartButtonEl.style.display =\n",
              "        google.colab.kernel.accessAllowed ? 'block' : 'none';\n",
              "    })();\n",
              "  </script>\n",
              "</div>\n",
              "    </div>\n",
              "  </div>\n"
            ]
          },
          "metadata": {},
          "execution_count": 3
        }
      ],
      "source": [
        "data = pd.read_csv('Traffic.csv')\n",
        "data.head(30)"
      ]
    },
    {
      "cell_type": "code",
      "execution_count": null,
      "metadata": {
        "colab": {
          "base_uri": "https://localhost:8080/"
        },
        "id": "MmCHCZlSCg1W",
        "outputId": "e7b7af48-6354-4e44-dab1-249ab895adaa"
      },
      "outputs": [
        {
          "output_type": "execute_result",
          "data": {
            "text/plain": [
              "Index(['Time', 'Date', 'Day of the week', 'CarCount', 'BikeCount', 'BusCount',\n",
              "       'TruckCount', 'Total', 'Traffic Situation'],\n",
              "      dtype='object')"
            ]
          },
          "metadata": {},
          "execution_count": 4
        }
      ],
      "source": [
        "data.columns"
      ]
    },
    {
      "cell_type": "code",
      "execution_count": null,
      "metadata": {
        "colab": {
          "base_uri": "https://localhost:8080/"
        },
        "id": "FXRAhzY2OEqc",
        "outputId": "3a22599c-323b-4614-80a5-ed24cd229c43"
      },
      "outputs": [
        {
          "output_type": "execute_result",
          "data": {
            "text/plain": [
              "(2976, 9)"
            ]
          },
          "metadata": {},
          "execution_count": 5
        }
      ],
      "source": [
        "data.shape"
      ]
    },
    {
      "cell_type": "code",
      "execution_count": null,
      "metadata": {
        "colab": {
          "base_uri": "https://localhost:8080/"
        },
        "id": "r7rVlgacOJXr",
        "outputId": "e19deff6-4631-44ad-c3eb-7e35183d1b0e"
      },
      "outputs": [
        {
          "output_type": "stream",
          "name": "stdout",
          "text": [
            "<class 'pandas.core.frame.DataFrame'>\n",
            "RangeIndex: 2976 entries, 0 to 2975\n",
            "Data columns (total 9 columns):\n",
            " #   Column             Non-Null Count  Dtype \n",
            "---  ------             --------------  ----- \n",
            " 0   Time               2976 non-null   object\n",
            " 1   Date               2976 non-null   int64 \n",
            " 2   Day of the week    2976 non-null   object\n",
            " 3   CarCount           2976 non-null   int64 \n",
            " 4   BikeCount          2976 non-null   int64 \n",
            " 5   BusCount           2976 non-null   int64 \n",
            " 6   TruckCount         2976 non-null   int64 \n",
            " 7   Total              2976 non-null   int64 \n",
            " 8   Traffic Situation  2976 non-null   object\n",
            "dtypes: int64(6), object(3)\n",
            "memory usage: 209.4+ KB\n"
          ]
        }
      ],
      "source": [
        "data.info()"
      ]
    },
    {
      "cell_type": "markdown",
      "metadata": {
        "id": "0ECb7W0G69Yj"
      },
      "source": [
        "#Preprocessing"
      ]
    },
    {
      "cell_type": "code",
      "execution_count": null,
      "metadata": {
        "id": "3JX2VbGOr2WO"
      },
      "outputs": [],
      "source": [
        "# Assuming df is your DataFrame\n",
        "# Define a mapping from day names to numerical values\n",
        "day_mapping = {'Monday': 1, 'Tuesday': 2, 'Wednesday': 3, 'Thursday': 4, 'Friday': 5, 'Saturday': 6, 'Sunday': 7}\n",
        "traffic_situation_mapping = {'low': 0, 'normal': 1, 'high': 2, 'heavy': 3}\n",
        "\n",
        "# Apply the mapping to the 'Day of the week' column\n",
        "data['Day of the week'] = data['Day of the week'].map(day_mapping)\n",
        "data['Traffic Situation'] = data['Traffic Situation'].map(traffic_situation_mapping)\n"
      ]
    },
    {
      "cell_type": "code",
      "execution_count": null,
      "metadata": {
        "id": "E11tvORYr-d_"
      },
      "outputs": [],
      "source": [
        "# Assuming df is your DataFrame\n",
        "data['Day of the week'] = data['Day of the week'].astype(int)"
      ]
    },
    {
      "cell_type": "code",
      "execution_count": null,
      "metadata": {
        "id": "5QTbdaUh6vUQ"
      },
      "outputs": [],
      "source": [
        "data['midday'] = ''\n",
        "\n",
        "for i in range(len(data['Time'])):\n",
        "\n",
        "    if data['Time'][i][-2:] == 0:\n",
        "        data.loc[i, 'midday'] = 1\n",
        "\n",
        "    elif data['Time'][i][-2:] == 1:\n",
        "        data.loc[i, 'midday'] = 1\n",
        "\n",
        "# removing 'AM' or 'PM' form Time column\n",
        "data['Time'] = data['Time'].str[:-2]"
      ]
    },
    {
      "cell_type": "code",
      "execution_count": null,
      "metadata": {
        "id": "J-ap3qup50bI"
      },
      "outputs": [],
      "source": [
        "# Assuming 'Time' is the name of the column in your DataFrame\n",
        "data['Time'] = pd.to_datetime(data['Time']).dt.hour * 3600 + \\\n",
        "                     pd.to_datetime(data['Time']).dt.minute * 60 + \\\n",
        "                     pd.to_datetime(data['Time']).dt.second"
      ]
    },
    {
      "cell_type": "code",
      "execution_count": null,
      "metadata": {
        "colab": {
          "base_uri": "https://localhost:8080/"
        },
        "id": "Iwv5lcp9rAPL",
        "outputId": "1931b9ec-96bc-4af9-d2bb-61807a85832a"
      },
      "outputs": [
        {
          "output_type": "stream",
          "name": "stdout",
          "text": [
            "<class 'pandas.core.frame.DataFrame'>\n",
            "RangeIndex: 2976 entries, 0 to 2975\n",
            "Data columns (total 10 columns):\n",
            " #   Column             Non-Null Count  Dtype \n",
            "---  ------             --------------  ----- \n",
            " 0   Time               2976 non-null   int64 \n",
            " 1   Date               2976 non-null   int64 \n",
            " 2   Day of the week    2976 non-null   int64 \n",
            " 3   CarCount           2976 non-null   int64 \n",
            " 4   BikeCount          2976 non-null   int64 \n",
            " 5   BusCount           2976 non-null   int64 \n",
            " 6   TruckCount         2976 non-null   int64 \n",
            " 7   Total              2976 non-null   int64 \n",
            " 8   Traffic Situation  2976 non-null   int64 \n",
            " 9   midday             2976 non-null   object\n",
            "dtypes: int64(9), object(1)\n",
            "memory usage: 232.6+ KB\n"
          ]
        }
      ],
      "source": [
        "data.info()"
      ]
    },
    {
      "cell_type": "code",
      "execution_count": null,
      "metadata": {
        "id": "pvMONjdz_anA"
      },
      "outputs": [],
      "source": [
        "traffic_df = data.drop('midday', axis=1)\n",
        "traffic_df = traffic_df.drop('Date', axis=1)"
      ]
    },
    {
      "cell_type": "code",
      "execution_count": null,
      "metadata": {
        "colab": {
          "base_uri": "https://localhost:8080/"
        },
        "id": "6tKRiLw8_ha0",
        "outputId": "8ba41d7b-a06c-4396-b18f-8a2d7046b2c0"
      },
      "outputs": [
        {
          "output_type": "stream",
          "name": "stdout",
          "text": [
            "<class 'pandas.core.frame.DataFrame'>\n",
            "RangeIndex: 2976 entries, 0 to 2975\n",
            "Data columns (total 8 columns):\n",
            " #   Column             Non-Null Count  Dtype\n",
            "---  ------             --------------  -----\n",
            " 0   Time               2976 non-null   int64\n",
            " 1   Day of the week    2976 non-null   int64\n",
            " 2   CarCount           2976 non-null   int64\n",
            " 3   BikeCount          2976 non-null   int64\n",
            " 4   BusCount           2976 non-null   int64\n",
            " 5   TruckCount         2976 non-null   int64\n",
            " 6   Total              2976 non-null   int64\n",
            " 7   Traffic Situation  2976 non-null   int64\n",
            "dtypes: int64(8)\n",
            "memory usage: 186.1 KB\n"
          ]
        }
      ],
      "source": [
        "traffic_df.info()"
      ]
    },
    {
      "cell_type": "code",
      "execution_count": null,
      "metadata": {
        "id": "_zufjNTcoJta"
      },
      "outputs": [],
      "source": [
        "array = traffic_df.values\n",
        "\n",
        "X = array[:,0:7]\n",
        "\n",
        "Y = array[:,7]\n",
        "\n",
        "validation_size = 0.20\n",
        "\n",
        "seed = 7\n",
        "\n",
        "X_train, X_validation, Y_train, Y_validation = model_selection.train_test_split(X, Y, test_size=validation_size, random_state=seed)"
      ]
    },
    {
      "cell_type": "code",
      "execution_count": null,
      "metadata": {
        "id": "44uGCMpVobLJ"
      },
      "outputs": [],
      "source": [
        "# Test options and evaluation metric\n",
        "\n",
        "seed = 7\n",
        "scoring = 'acuracy'"
      ]
    },
    {
      "cell_type": "code",
      "execution_count": null,
      "metadata": {
        "colab": {
          "base_uri": "https://localhost:8080/"
        },
        "id": "iGGyPVYhodS2",
        "outputId": "8865be67-1b36-4f92-9a93-259fbc90ce84"
      },
      "outputs": [
        {
          "output_type": "stream",
          "name": "stdout",
          "text": [
            "KNN: 0.802521 (0.024500)\n",
            "NB: 0.821849 (0.017446)\n",
            "SVM: 0.601681 (0.035043)\n"
          ]
        }
      ],
      "source": [
        "# Spot Check Algorithms\n",
        "models = []\n",
        "models.append(('KNN', KNeighborsClassifier()))\n",
        "models.append(('NB', GaussianNB()))\n",
        "models.append(('SVM', SVC()))\n",
        "\n",
        "# evaluate each model in turn\n",
        "results = []\n",
        "names = []\n",
        "for name, model in models:\n",
        "  kfold = model_selection.KFold(n_splits=10, shuffle=True, random_state=seed)\n",
        "  cv_results = model_selection.cross_val_score(model, X_train, Y_train, cv=kfold, scoring='accuracy')\n",
        "  results.append(cv_results)\n",
        "  names.append(name)\n",
        "  msg = \"%s: %f (%f)\" % (name, cv_results.mean(), cv_results.std())\n",
        "  print(msg)\n"
      ]
    },
    {
      "cell_type": "markdown",
      "source": [
        "##KNN"
      ],
      "metadata": {
        "id": "jh5E9GY767Z0"
      }
    },
    {
      "cell_type": "code",
      "execution_count": null,
      "metadata": {
        "colab": {
          "base_uri": "https://localhost:8080/"
        },
        "id": "0SiEK95nyqs3",
        "outputId": "c9612ac1-bd6b-4ab1-fe92-1aa4b6f4b47a"
      },
      "outputs": [
        {
          "output_type": "stream",
          "name": "stdout",
          "text": [
            "[1 1 1 ... 1 1 1]\n"
          ]
        }
      ],
      "source": [
        "# Memanggil fungsi Naive Bayes\n",
        "knn = KNeighborsClassifier()\n",
        "\n",
        "# Memasukkan data training pada fungsi klasifikasi naive bayes\n",
        "data_training = knn.fit(X,Y)\n",
        "\n",
        "# Melakukan prediksi pada data training\n",
        "Y_predict = data_training.predict(X)\n",
        "print(Y_predict)"
      ]
    },
    {
      "cell_type": "code",
      "execution_count": null,
      "metadata": {
        "colab": {
          "base_uri": "https://localhost:8080/"
        },
        "id": "cgiMR3EbyxU4",
        "outputId": "b27b9d5a-650a-4531-a419-7e9006a43475"
      },
      "outputs": [
        {
          "output_type": "stream",
          "name": "stdout",
          "text": [
            "Accuracy:  0.7768456375838926\n",
            "\n",
            "Confusion Matrix: \n",
            "[[ 23  44   0   0]\n",
            " [ 17 290  12   8]\n",
            " [  0  20  34   2]\n",
            " [  0  18  12 116]]\n",
            "              precision    recall  f1-score   support\n",
            "\n",
            "           0       0.57      0.34      0.43        67\n",
            "           1       0.78      0.89      0.83       327\n",
            "           2       0.59      0.61      0.60        56\n",
            "           3       0.92      0.79      0.85       146\n",
            "\n",
            "    accuracy                           0.78       596\n",
            "   macro avg       0.72      0.66      0.68       596\n",
            "weighted avg       0.77      0.78      0.77       596\n",
            "\n"
          ]
        }
      ],
      "source": [
        "knn = KNeighborsClassifier()\n",
        "knn.fit(X_train, Y_train)\n",
        "predictions = knn.predict(X_validation)\n",
        "accuracy = accuracy_score(Y_validation, predictions)\n",
        "\n",
        "print(\"Accuracy: \", accuracy)\n",
        "print(\"\\nConfusion Matrix: \")\n",
        "print(confusion_matrix(Y_validation, predictions))\n",
        "print(classification_report(Y_validation, predictions))"
      ]
    },
    {
      "cell_type": "markdown",
      "source": [
        "##NB"
      ],
      "metadata": {
        "id": "MIV12aVS6-i4"
      }
    },
    {
      "cell_type": "code",
      "source": [
        "# Memanggil fungsi Naive Bayes\n",
        "nb = GaussianNB()\n",
        "\n",
        "# Memasukkan data training pada fungsi klasifikasi naive bayes\n",
        "data_training = nb.fit(X,Y)\n",
        "\n",
        "# Melakukan prediksi pada data training\n",
        "Y_predict = data_training.predict(X)\n",
        "print(Y_predict)"
      ],
      "metadata": {
        "colab": {
          "base_uri": "https://localhost:8080/"
        },
        "id": "_zY5vA7y7C2S",
        "outputId": "82b8f5d1-28fc-4a41-ca65-806bd37eb0ec"
      },
      "execution_count": null,
      "outputs": [
        {
          "output_type": "stream",
          "name": "stdout",
          "text": [
            "[0 0 0 ... 1 1 1]\n"
          ]
        }
      ]
    },
    {
      "cell_type": "code",
      "source": [
        "nb = GaussianNB()\n",
        "nb.fit(X_train, Y_train)\n",
        "predictions = nb.predict(X_validation)\n",
        "accuracy = accuracy_score(Y_validation, predictions)\n",
        "\n",
        "print(\"Accuracy: \", accuracy)\n",
        "print(\"\\nConfusion Matrix: \")\n",
        "print(confusion_matrix(Y_validation, predictions))\n",
        "print(classification_report(Y_validation, predictions))"
      ],
      "metadata": {
        "colab": {
          "base_uri": "https://localhost:8080/"
        },
        "id": "T2EwFFFN7Ct6",
        "outputId": "605947ad-e789-40cc-a270-d18b3b7f1c80"
      },
      "execution_count": null,
      "outputs": [
        {
          "output_type": "stream",
          "name": "stdout",
          "text": [
            "Accuracy:  0.7869127516778524\n",
            "\n",
            "Confusion Matrix: \n",
            "[[ 40  27   0   0]\n",
            " [  1 256  53  17]\n",
            " [  0  12  38   6]\n",
            " [  0   0  11 135]]\n",
            "              precision    recall  f1-score   support\n",
            "\n",
            "           0       0.98      0.60      0.74        67\n",
            "           1       0.87      0.78      0.82       327\n",
            "           2       0.37      0.68      0.48        56\n",
            "           3       0.85      0.92      0.89       146\n",
            "\n",
            "    accuracy                           0.79       596\n",
            "   macro avg       0.77      0.75      0.73       596\n",
            "weighted avg       0.83      0.79      0.80       596\n",
            "\n"
          ]
        }
      ]
    },
    {
      "cell_type": "code",
      "execution_count": null,
      "metadata": {
        "colab": {
          "base_uri": "https://localhost:8080/"
        },
        "id": "8d6iQnOD2_5s",
        "outputId": "4c9e9497-b69c-486e-b90a-2cf2fc97ee12"
      },
      "outputs": [
        {
          "output_type": "stream",
          "name": "stdout",
          "text": [
            "[[12600, 3, 129, 22, 42, 1, 194]]\n",
            "Hasil Prediksi Traffic : Heavy\n"
          ]
        }
      ],
      "source": [
        "import pandas as pd\n",
        "\n",
        "# Assuming 'time' is the time in \"12:00 AM\" format\n",
        "time = \"3:30:00 AM\"\n",
        "\n",
        "# Convert 'time' to an integer representing seconds\n",
        "time_seconds = pd.to_datetime(time).hour * 3600 + \\\n",
        "               pd.to_datetime(time).minute * 60 + \\\n",
        "               pd.to_datetime(time).second\n",
        "day = 3\n",
        "carcount= 129\n",
        "bikecount= 22\n",
        "buscount= 42\n",
        "truckcount = 1\n",
        "count = (carcount, bikecount, buscount, truckcount)\n",
        "total= sum(count)\n",
        "Data_Testing = [[time_seconds, day, carcount, bikecount, buscount, truckcount, total]]\n",
        "print(Data_Testing)\n",
        "y_pred = data_training.predict(Data_Testing)\n",
        "if y_pred == 0:\n",
        "    hasil = \"Low\"\n",
        "elif y_pred == 1:\n",
        "    hasil = \"Normal\"\n",
        "elif y_pred == 2:\n",
        "    hasil = \"High\"\n",
        "elif y_pred == 3:\n",
        "    hasil = \"Heavy\"\n",
        "else:\n",
        "    hasil == \"Error\"\n",
        "print(\"Hasil Prediksi Traffic :\", hasil)"
      ]
    },
    {
      "cell_type": "code",
      "source": [
        "import pickle\n",
        "pickle.dump(data_training, open('model.pkl', 'wb'))"
      ],
      "metadata": {
        "id": "UZ3fP5v5Nw_b"
      },
      "execution_count": null,
      "outputs": []
    }
  ],
  "metadata": {
    "colab": {
      "provenance": [],
      "include_colab_link": true
    },
    "kernelspec": {
      "display_name": "Python 3",
      "name": "python3"
    },
    "language_info": {
      "name": "python"
    }
  },
  "nbformat": 4,
  "nbformat_minor": 0
}